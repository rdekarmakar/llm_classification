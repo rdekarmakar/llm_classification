{
 "cells": [
  {
   "cell_type": "code",
   "execution_count": 26,
   "id": "1554ffb7",
   "metadata": {},
   "outputs": [],
   "source": [
    "import csv\n",
    "\n",
    "# Load sample data (a restaurant menu of items)\n",
    "with open('customer_insurance_policies.csv') as file:\n",
    "    lines = csv.reader(file)\n",
    "\n",
    "    # Store the name of the menu items in this array. In Chroma, a \"document\" is a string i.e. name, sentence, paragraph, etc.\n",
    "    documents = []\n",
    "\n",
    "    # Store the corresponding menu item IDs in this array.\n",
    "    metadatas = []\n",
    "\n",
    "    # Each \"document\" needs a unique ID. This is like the primary key of a relational database. We'll start at 1 and increment from there.\n",
    "    ids = []\n",
    "    id = 1\n",
    "\n",
    "    # Loop thru each line and populate the 3 arrays.\n",
    "    for i, line in enumerate(lines):\n",
    "        if i==0:\n",
    "            # Skip the first row (the column headers)\n",
    "            continue\n",
    "\n",
    "        documents.append(line[1])\n",
    "        metadatas.append({\"customer_id\": line[0]})\n",
    "        ids.append(str(id))\n",
    "        id+=1"
   ]
  },
  {
   "cell_type": "code",
   "execution_count": 27,
   "id": "89bd9464",
   "metadata": {},
   "outputs": [],
   "source": [
    "# Reference: https://docs.trychroma.com/getting-started\n",
    "\n",
    "import chromadb\n",
    "from chromadb.utils import embedding_functions\n",
    "\n",
    "# Instantiate chromadb instance. Data is stored in memory only.\n",
    "# chroma_client = chromadb.Client()\n",
    "\n",
    "# Instantiate chromadb instance. Data is stored on disk (a folder named 'my_vectordb' will be created in the same folder as this file).\n",
    "chroma_client = chromadb.PersistentClient(path=\"my_vectordb\")"
   ]
  },
  {
   "cell_type": "code",
   "execution_count": 28,
   "id": "6438facb",
   "metadata": {},
   "outputs": [],
   "source": [
    "# Select the embedding model to use.\n",
    "# List of model names can be found here https://www.sbert.net/docs/pretrained_models.html\n",
    "sentence_transformer_ef = embedding_functions.SentenceTransformerEmbeddingFunction(model_name=\"all-mpnet-base-v2\")\n",
    "\n",
    "# Use this to delete the database\n",
    "chroma_client.delete_collection(name=\"my_collection\")\n",
    "\n",
    "# Create the collection, aka vector database. Or, if database already exist, then use it. Specify the model that we want to use to do the embedding.\n",
    "collection = chroma_client.get_or_create_collection(name=\"my_collection\", embedding_function=sentence_transformer_ef)"
   ]
  },
  {
   "cell_type": "code",
   "execution_count": 29,
   "id": "5ba76039-68f3-4362-ac50-d22c774bf22a",
   "metadata": {},
   "outputs": [],
   "source": [
    "# Add all the data to the vector database. ChromaDB automatically converts and stores the text as vector embeddings. This may take a few minutes.\n",
    "collection.add(\n",
    "    documents=documents,\n",
    "    metadatas=metadatas,\n",
    "    ids=ids\n",
    ")"
   ]
  },
  {
   "cell_type": "code",
   "execution_count": 30,
   "id": "a855b846-380d-4f11-99f5-6d69635e297b",
   "metadata": {},
   "outputs": [
    {
     "name": "stdout",
     "output_type": "stream",
     "text": [
      "[['This policy covers great damages and includes itself protection for a period of 5 years.', 'This policy covers which damages and includes such protection for a period of 5 years.', 'This policy covers year damages and includes animal protection for a period of 3 years.', 'This policy covers economic damages and includes treatment protection for a period of 3 years.', 'This policy covers ten damages and includes catch protection for a period of 4 years.']]\n",
      "[['This policy covers guy damages and includes smile protection for a period of 5 years.', 'This policy covers guy damages and includes morning protection for a period of 1 years.', 'This policy covers ten damages and includes catch protection for a period of 4 years.', 'This policy covers offer damages and includes guess protection for a period of 3 years.', 'This policy covers green damages and includes try protection for a period of 4 years.']]\n",
      "[['This policy covers why damages and includes animal protection for a period of 1 years.', 'This policy covers ten damages and includes catch protection for a period of 4 years.', 'This policy covers year damages and includes animal protection for a period of 3 years.', 'This policy covers offer damages and includes guess protection for a period of 3 years.', 'This policy covers marriage damages and includes claim protection for a period of 1 years.']]\n"
     ]
    }
   ],
   "source": [
    "# Query the vector database\n",
    "\n",
    "# Query mispelled word: 'vermiceli'. Expect to find the correctly spelled 'vermicelli' item\n",
    "results = collection.query(\n",
    "    query_texts=[\"vermiceli\"],\n",
    "    n_results=5,\n",
    "    include=['documents', 'distances', 'metadatas']\n",
    ")\n",
    "print(results['documents'])\n",
    "\n",
    "# Query word variation: 'donut'. Expect to find the 'doughnut' item\n",
    "results = collection.query(\n",
    "    query_texts=[\"donut\"],\n",
    "    n_results=5,\n",
    "    include=['documents', 'distances', 'metadatas']\n",
    ")\n",
    "print(results['documents'])\n",
    "\n",
    "# Query similar meaning: 'shrimp'. Expect to find the 'prawn' items\n",
    "results = collection.query(\n",
    "    query_texts=[\"shrimp\"],\n",
    "    n_results=5,\n",
    "    include=['documents', 'distances', 'metadatas']\n",
    ")\n",
    "print(results['documents'])"
   ]
  },
  {
   "cell_type": "code",
   "execution_count": 33,
   "id": "0793dc7d-a167-437d-b746-31602d5b80bf",
   "metadata": {},
   "outputs": [
    {
     "name": "stdout",
     "output_type": "stream",
     "text": [
      "[['This policy covers suffer damages and includes game protection for a period of 2 years.']]\n"
     ]
    }
   ],
   "source": [
    "results = collection.query(\n",
    "        query_texts=[\"game protection\"],\n",
    "        n_results=1  # Retrieve top 3 relevant results\n",
    "    )\n",
    "print(results['documents'])\n",
    "# additional_context = \" \".join([doc for doc in results[\"documents\"]])"
   ]
  },
  {
   "cell_type": "code",
   "execution_count": 34,
   "id": "b2894660-a50f-4f29-b81d-c340a09b8292",
   "metadata": {},
   "outputs": [
    {
     "name": "stdout",
     "output_type": "stream",
     "text": [
      "This policy covers suffer damages and includes game protection for a period of 2 years.\n"
     ]
    }
   ],
   "source": [
    "# Flatten the nested list and join the elements\n",
    "additional_context = \" \".join([doc for sublist in results[\"documents\"] for doc in sublist])\n",
    "print(additional_context)"
   ]
  },
  {
   "cell_type": "code",
   "execution_count": null,
   "id": "477889a0-d3ba-415f-9f55-d0af460895b5",
   "metadata": {},
   "outputs": [],
   "source": []
  }
 ],
 "metadata": {
  "kernelspec": {
   "display_name": "Python 3 (ipykernel)",
   "language": "python",
   "name": "python3"
  },
  "language_info": {
   "codemirror_mode": {
    "name": "ipython",
    "version": 3
   },
   "file_extension": ".py",
   "mimetype": "text/x-python",
   "name": "python",
   "nbconvert_exporter": "python",
   "pygments_lexer": "ipython3",
   "version": "3.12.10"
  }
 },
 "nbformat": 4,
 "nbformat_minor": 5
}
